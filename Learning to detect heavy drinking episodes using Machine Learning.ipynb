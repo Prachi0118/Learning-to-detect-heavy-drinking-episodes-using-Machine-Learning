{
 "cells": [
  {
   "cell_type": "markdown",
   "metadata": {
    "id": "CsjKjW9XhG7i"
   },
   "source": [
    "# Healthcare Analytics Project"
   ]
  },
  {
   "cell_type": "code",
   "execution_count": null,
   "metadata": {
    "id": "0BXBwSZiuuWx"
   },
   "outputs": [],
   "source": [
    "import numpy as np\n",
    "import pandas as pd\n",
    "import matplotlib.pyplot as plt"
   ]
  },
  {
   "cell_type": "markdown",
   "metadata": {
    "id": "VHHoshS4fOr2"
   },
   "source": [
    "We have imported both the final csv files that we are going to use for the model.\n",
    "- all_accelerometer_data_pids_13: contains accelerometer data\n",
    "- combined_csv: contains TAC readings of all participants in one csv file that was created in separately"
   ]
  },
  {
   "cell_type": "code",
   "execution_count": null,
   "metadata": {
    "id": "BWUVu5VquuW9"
   },
   "outputs": [],
   "source": [
    "xlo = pd.read_csv('all_accelerometer_data_pids_13.csv')\n",
    "\n",
    "tac = pd.read_csv('combined_csv.csv')"
   ]
  },
  {
   "cell_type": "code",
   "execution_count": null,
   "metadata": {
    "colab": {
     "base_uri": "https://localhost:8080/",
     "height": 195
    },
    "id": "3Fj0DZAEuuXB",
    "outputId": "001b1dcc-7a9f-4bb8-b56c-e12862168f49"
   },
   "outputs": [
    {
     "data": {
      "text/html": [
       "<div>\n",
       "<style scoped>\n",
       "    .dataframe tbody tr th:only-of-type {\n",
       "        vertical-align: middle;\n",
       "    }\n",
       "\n",
       "    .dataframe tbody tr th {\n",
       "        vertical-align: top;\n",
       "    }\n",
       "\n",
       "    .dataframe thead th {\n",
       "        text-align: right;\n",
       "    }\n",
       "</style>\n",
       "<table border=\"1\" class=\"dataframe\">\n",
       "  <thead>\n",
       "    <tr style=\"text-align: right;\">\n",
       "      <th></th>\n",
       "      <th>time</th>\n",
       "      <th>pid</th>\n",
       "      <th>x</th>\n",
       "      <th>y</th>\n",
       "      <th>z</th>\n",
       "    </tr>\n",
       "  </thead>\n",
       "  <tbody>\n",
       "    <tr>\n",
       "      <th>0</th>\n",
       "      <td>0.000000e+00</td>\n",
       "      <td>JB3156</td>\n",
       "      <td>0.0000</td>\n",
       "      <td>0.0000</td>\n",
       "      <td>0.0000</td>\n",
       "    </tr>\n",
       "    <tr>\n",
       "      <th>1</th>\n",
       "      <td>0.000000e+00</td>\n",
       "      <td>CC6740</td>\n",
       "      <td>0.0000</td>\n",
       "      <td>0.0000</td>\n",
       "      <td>0.0000</td>\n",
       "    </tr>\n",
       "    <tr>\n",
       "      <th>2</th>\n",
       "      <td>1.493730e+12</td>\n",
       "      <td>SA0297</td>\n",
       "      <td>0.0758</td>\n",
       "      <td>0.0273</td>\n",
       "      <td>-0.0102</td>\n",
       "    </tr>\n",
       "    <tr>\n",
       "      <th>3</th>\n",
       "      <td>1.493730e+12</td>\n",
       "      <td>SA0297</td>\n",
       "      <td>-0.0359</td>\n",
       "      <td>0.0794</td>\n",
       "      <td>0.0037</td>\n",
       "    </tr>\n",
       "    <tr>\n",
       "      <th>4</th>\n",
       "      <td>1.493730e+12</td>\n",
       "      <td>SA0297</td>\n",
       "      <td>-0.2427</td>\n",
       "      <td>-0.0861</td>\n",
       "      <td>-0.0163</td>\n",
       "    </tr>\n",
       "  </tbody>\n",
       "</table>\n",
       "</div>"
      ],
      "text/plain": [
       "           time     pid       x       y       z\n",
       "0  0.000000e+00  JB3156  0.0000  0.0000  0.0000\n",
       "1  0.000000e+00  CC6740  0.0000  0.0000  0.0000\n",
       "2  1.493730e+12  SA0297  0.0758  0.0273 -0.0102\n",
       "3  1.493730e+12  SA0297 -0.0359  0.0794  0.0037\n",
       "4  1.493730e+12  SA0297 -0.2427 -0.0861 -0.0163"
      ]
     },
     "execution_count": 3,
     "metadata": {
      "tags": []
     },
     "output_type": "execute_result"
    }
   ],
   "source": [
    "xlo.head()"
   ]
  },
  {
   "cell_type": "code",
   "execution_count": null,
   "metadata": {
    "colab": {
     "base_uri": "https://localhost:8080/",
     "height": 195
    },
    "id": "kXI8vfbbuuXF",
    "outputId": "f8d6974e-f023-47a0-a35c-72322b4c07f1"
   },
   "outputs": [
    {
     "data": {
      "text/html": [
       "<div>\n",
       "<style scoped>\n",
       "    .dataframe tbody tr th:only-of-type {\n",
       "        vertical-align: middle;\n",
       "    }\n",
       "\n",
       "    .dataframe tbody tr th {\n",
       "        vertical-align: top;\n",
       "    }\n",
       "\n",
       "    .dataframe thead th {\n",
       "        text-align: right;\n",
       "    }\n",
       "</style>\n",
       "<table border=\"1\" class=\"dataframe\">\n",
       "  <thead>\n",
       "    <tr style=\"text-align: right;\">\n",
       "      <th></th>\n",
       "      <th>timestamp</th>\n",
       "      <th>TAC_Reading</th>\n",
       "    </tr>\n",
       "  </thead>\n",
       "  <tbody>\n",
       "    <tr>\n",
       "      <th>0</th>\n",
       "      <td>1493718714</td>\n",
       "      <td>-0.000482</td>\n",
       "    </tr>\n",
       "    <tr>\n",
       "      <th>1</th>\n",
       "      <td>1493720697</td>\n",
       "      <td>0.001573</td>\n",
       "    </tr>\n",
       "    <tr>\n",
       "      <th>2</th>\n",
       "      <td>1493721027</td>\n",
       "      <td>0.002144</td>\n",
       "    </tr>\n",
       "    <tr>\n",
       "      <th>3</th>\n",
       "      <td>1493721357</td>\n",
       "      <td>0.000877</td>\n",
       "    </tr>\n",
       "    <tr>\n",
       "      <th>4</th>\n",
       "      <td>1493721686</td>\n",
       "      <td>-0.001145</td>\n",
       "    </tr>\n",
       "  </tbody>\n",
       "</table>\n",
       "</div>"
      ],
      "text/plain": [
       "    timestamp  TAC_Reading\n",
       "0  1493718714    -0.000482\n",
       "1  1493720697     0.001573\n",
       "2  1493721027     0.002144\n",
       "3  1493721357     0.000877\n",
       "4  1493721686    -0.001145"
      ]
     },
     "execution_count": 4,
     "metadata": {
      "tags": []
     },
     "output_type": "execute_result"
    }
   ],
   "source": [
    "tac.head()"
   ]
  },
  {
   "cell_type": "markdown",
   "metadata": {
    "id": "uoRyXj7zfTWO"
   },
   "source": [
    "Here we have created an empty dataframe and defined headers for our dataframe."
   ]
  },
  {
   "cell_type": "code",
   "execution_count": null,
   "metadata": {
    "id": "JGioqgveuuXJ"
   },
   "outputs": [],
   "source": [
    "column_names = [\"x\", \"y\", \"z\", \"timestamp\", \"TAC_Reading\"]\n",
    "\n",
    "data = pd.DataFrame(columns = column_names)"
   ]
  },
  {
   "cell_type": "markdown",
   "metadata": {
    "id": "G0q7rNeWfZFt"
   },
   "source": [
    "We have taken the first 500 observations and stored it in the empty dataframe \n",
    "\n",
    "that we just created. The iloc method is used and the first parameter that extracts the rows from index 0 to 499 and the second parameter extracts columns as required."
   ]
  },
  {
   "cell_type": "code",
   "execution_count": null,
   "metadata": {
    "id": "Tc_Y_AvUuuXN"
   },
   "outputs": [],
   "source": [
    "data['x'] = xlo.iloc[0:500,2]\n",
    "data['y'] = xlo.iloc[0:500,3]\n",
    "data['z'] = xlo.iloc[0:500,4]\n",
    "data['timestamp'] = tac.iloc[0:500,0]\n",
    "data['TAC_Reading'] = tac.iloc[0:500,1]"
   ]
  },
  {
   "cell_type": "code",
   "execution_count": null,
   "metadata": {
    "colab": {
     "base_uri": "https://localhost:8080/",
     "height": 402
    },
    "id": "cluLCgTguuXQ",
    "outputId": "c326fc45-f54f-42da-f953-414292323691"
   },
   "outputs": [
    {
     "data": {
      "text/html": [
       "<div>\n",
       "<style scoped>\n",
       "    .dataframe tbody tr th:only-of-type {\n",
       "        vertical-align: middle;\n",
       "    }\n",
       "\n",
       "    .dataframe tbody tr th {\n",
       "        vertical-align: top;\n",
       "    }\n",
       "\n",
       "    .dataframe thead th {\n",
       "        text-align: right;\n",
       "    }\n",
       "</style>\n",
       "<table border=\"1\" class=\"dataframe\">\n",
       "  <thead>\n",
       "    <tr style=\"text-align: right;\">\n",
       "      <th></th>\n",
       "      <th>x</th>\n",
       "      <th>y</th>\n",
       "      <th>z</th>\n",
       "      <th>timestamp</th>\n",
       "      <th>TAC_Reading</th>\n",
       "    </tr>\n",
       "  </thead>\n",
       "  <tbody>\n",
       "    <tr>\n",
       "      <th>0</th>\n",
       "      <td>0.0000</td>\n",
       "      <td>0.0000</td>\n",
       "      <td>0.0000</td>\n",
       "      <td>1493718714</td>\n",
       "      <td>-0.000482</td>\n",
       "    </tr>\n",
       "    <tr>\n",
       "      <th>1</th>\n",
       "      <td>0.0000</td>\n",
       "      <td>0.0000</td>\n",
       "      <td>0.0000</td>\n",
       "      <td>1493720697</td>\n",
       "      <td>0.001573</td>\n",
       "    </tr>\n",
       "    <tr>\n",
       "      <th>2</th>\n",
       "      <td>0.0758</td>\n",
       "      <td>0.0273</td>\n",
       "      <td>-0.0102</td>\n",
       "      <td>1493721027</td>\n",
       "      <td>0.002144</td>\n",
       "    </tr>\n",
       "    <tr>\n",
       "      <th>3</th>\n",
       "      <td>-0.0359</td>\n",
       "      <td>0.0794</td>\n",
       "      <td>0.0037</td>\n",
       "      <td>1493721357</td>\n",
       "      <td>0.000877</td>\n",
       "    </tr>\n",
       "    <tr>\n",
       "      <th>4</th>\n",
       "      <td>-0.2427</td>\n",
       "      <td>-0.0861</td>\n",
       "      <td>-0.0163</td>\n",
       "      <td>1493721686</td>\n",
       "      <td>-0.001145</td>\n",
       "    </tr>\n",
       "    <tr>\n",
       "      <th>...</th>\n",
       "      <td>...</td>\n",
       "      <td>...</td>\n",
       "      <td>...</td>\n",
       "      <td>...</td>\n",
       "      <td>...</td>\n",
       "    </tr>\n",
       "    <tr>\n",
       "      <th>495</th>\n",
       "      <td>0.0115</td>\n",
       "      <td>-0.0061</td>\n",
       "      <td>-0.0076</td>\n",
       "      <td>1493723802</td>\n",
       "      <td>-0.000398</td>\n",
       "    </tr>\n",
       "    <tr>\n",
       "      <th>496</th>\n",
       "      <td>-0.0033</td>\n",
       "      <td>0.0012</td>\n",
       "      <td>-0.0035</td>\n",
       "      <td>1493724122</td>\n",
       "      <td>0.001296</td>\n",
       "    </tr>\n",
       "    <tr>\n",
       "      <th>497</th>\n",
       "      <td>-0.0006</td>\n",
       "      <td>0.0040</td>\n",
       "      <td>-0.0037</td>\n",
       "      <td>1493724443</td>\n",
       "      <td>0.002063</td>\n",
       "    </tr>\n",
       "    <tr>\n",
       "      <th>498</th>\n",
       "      <td>0.2475</td>\n",
       "      <td>0.0111</td>\n",
       "      <td>-0.1883</td>\n",
       "      <td>1493724763</td>\n",
       "      <td>0.001177</td>\n",
       "    </tr>\n",
       "    <tr>\n",
       "      <th>499</th>\n",
       "      <td>0.0046</td>\n",
       "      <td>0.0408</td>\n",
       "      <td>-0.0095</td>\n",
       "      <td>1493725082</td>\n",
       "      <td>-0.000829</td>\n",
       "    </tr>\n",
       "  </tbody>\n",
       "</table>\n",
       "<p>500 rows × 5 columns</p>\n",
       "</div>"
      ],
      "text/plain": [
       "          x       y       z   timestamp  TAC_Reading\n",
       "0    0.0000  0.0000  0.0000  1493718714    -0.000482\n",
       "1    0.0000  0.0000  0.0000  1493720697     0.001573\n",
       "2    0.0758  0.0273 -0.0102  1493721027     0.002144\n",
       "3   -0.0359  0.0794  0.0037  1493721357     0.000877\n",
       "4   -0.2427 -0.0861 -0.0163  1493721686    -0.001145\n",
       "..      ...     ...     ...         ...          ...\n",
       "495  0.0115 -0.0061 -0.0076  1493723802    -0.000398\n",
       "496 -0.0033  0.0012 -0.0035  1493724122     0.001296\n",
       "497 -0.0006  0.0040 -0.0037  1493724443     0.002063\n",
       "498  0.2475  0.0111 -0.1883  1493724763     0.001177\n",
       "499  0.0046  0.0408 -0.0095  1493725082    -0.000829\n",
       "\n",
       "[500 rows x 5 columns]"
      ]
     },
     "execution_count": 7,
     "metadata": {
      "tags": []
     },
     "output_type": "execute_result"
    }
   ],
   "source": [
    "data"
   ]
  },
  {
   "cell_type": "code",
   "execution_count": null,
   "metadata": {
    "id": "QbR66aK_uuXT"
   },
   "outputs": [],
   "source": [
    "data['tac'] = data['TAC_Reading'].apply(lambda x: 0 if x <= 0.08 else 1)"
   ]
  },
  {
   "cell_type": "code",
   "execution_count": null,
   "metadata": {
    "colab": {
     "base_uri": "https://localhost:8080/",
     "height": 402
    },
    "id": "2yV1FfqluuXY",
    "outputId": "e114bd9e-a47a-476f-b121-cc97306cc2fa"
   },
   "outputs": [
    {
     "data": {
      "text/html": [
       "<div>\n",
       "<style scoped>\n",
       "    .dataframe tbody tr th:only-of-type {\n",
       "        vertical-align: middle;\n",
       "    }\n",
       "\n",
       "    .dataframe tbody tr th {\n",
       "        vertical-align: top;\n",
       "    }\n",
       "\n",
       "    .dataframe thead th {\n",
       "        text-align: right;\n",
       "    }\n",
       "</style>\n",
       "<table border=\"1\" class=\"dataframe\">\n",
       "  <thead>\n",
       "    <tr style=\"text-align: right;\">\n",
       "      <th></th>\n",
       "      <th>x</th>\n",
       "      <th>y</th>\n",
       "      <th>z</th>\n",
       "      <th>timestamp</th>\n",
       "      <th>TAC_Reading</th>\n",
       "      <th>tac</th>\n",
       "    </tr>\n",
       "  </thead>\n",
       "  <tbody>\n",
       "    <tr>\n",
       "      <th>0</th>\n",
       "      <td>0.0000</td>\n",
       "      <td>0.0000</td>\n",
       "      <td>0.0000</td>\n",
       "      <td>1493718714</td>\n",
       "      <td>-0.000482</td>\n",
       "      <td>0</td>\n",
       "    </tr>\n",
       "    <tr>\n",
       "      <th>1</th>\n",
       "      <td>0.0000</td>\n",
       "      <td>0.0000</td>\n",
       "      <td>0.0000</td>\n",
       "      <td>1493720697</td>\n",
       "      <td>0.001573</td>\n",
       "      <td>0</td>\n",
       "    </tr>\n",
       "    <tr>\n",
       "      <th>2</th>\n",
       "      <td>0.0758</td>\n",
       "      <td>0.0273</td>\n",
       "      <td>-0.0102</td>\n",
       "      <td>1493721027</td>\n",
       "      <td>0.002144</td>\n",
       "      <td>0</td>\n",
       "    </tr>\n",
       "    <tr>\n",
       "      <th>3</th>\n",
       "      <td>-0.0359</td>\n",
       "      <td>0.0794</td>\n",
       "      <td>0.0037</td>\n",
       "      <td>1493721357</td>\n",
       "      <td>0.000877</td>\n",
       "      <td>0</td>\n",
       "    </tr>\n",
       "    <tr>\n",
       "      <th>4</th>\n",
       "      <td>-0.2427</td>\n",
       "      <td>-0.0861</td>\n",
       "      <td>-0.0163</td>\n",
       "      <td>1493721686</td>\n",
       "      <td>-0.001145</td>\n",
       "      <td>0</td>\n",
       "    </tr>\n",
       "    <tr>\n",
       "      <th>...</th>\n",
       "      <td>...</td>\n",
       "      <td>...</td>\n",
       "      <td>...</td>\n",
       "      <td>...</td>\n",
       "      <td>...</td>\n",
       "      <td>...</td>\n",
       "    </tr>\n",
       "    <tr>\n",
       "      <th>495</th>\n",
       "      <td>0.0115</td>\n",
       "      <td>-0.0061</td>\n",
       "      <td>-0.0076</td>\n",
       "      <td>1493723802</td>\n",
       "      <td>-0.000398</td>\n",
       "      <td>0</td>\n",
       "    </tr>\n",
       "    <tr>\n",
       "      <th>496</th>\n",
       "      <td>-0.0033</td>\n",
       "      <td>0.0012</td>\n",
       "      <td>-0.0035</td>\n",
       "      <td>1493724122</td>\n",
       "      <td>0.001296</td>\n",
       "      <td>0</td>\n",
       "    </tr>\n",
       "    <tr>\n",
       "      <th>497</th>\n",
       "      <td>-0.0006</td>\n",
       "      <td>0.0040</td>\n",
       "      <td>-0.0037</td>\n",
       "      <td>1493724443</td>\n",
       "      <td>0.002063</td>\n",
       "      <td>0</td>\n",
       "    </tr>\n",
       "    <tr>\n",
       "      <th>498</th>\n",
       "      <td>0.2475</td>\n",
       "      <td>0.0111</td>\n",
       "      <td>-0.1883</td>\n",
       "      <td>1493724763</td>\n",
       "      <td>0.001177</td>\n",
       "      <td>0</td>\n",
       "    </tr>\n",
       "    <tr>\n",
       "      <th>499</th>\n",
       "      <td>0.0046</td>\n",
       "      <td>0.0408</td>\n",
       "      <td>-0.0095</td>\n",
       "      <td>1493725082</td>\n",
       "      <td>-0.000829</td>\n",
       "      <td>0</td>\n",
       "    </tr>\n",
       "  </tbody>\n",
       "</table>\n",
       "<p>500 rows × 6 columns</p>\n",
       "</div>"
      ],
      "text/plain": [
       "          x       y       z   timestamp  TAC_Reading  tac\n",
       "0    0.0000  0.0000  0.0000  1493718714    -0.000482    0\n",
       "1    0.0000  0.0000  0.0000  1493720697     0.001573    0\n",
       "2    0.0758  0.0273 -0.0102  1493721027     0.002144    0\n",
       "3   -0.0359  0.0794  0.0037  1493721357     0.000877    0\n",
       "4   -0.2427 -0.0861 -0.0163  1493721686    -0.001145    0\n",
       "..      ...     ...     ...         ...          ...  ...\n",
       "495  0.0115 -0.0061 -0.0076  1493723802    -0.000398    0\n",
       "496 -0.0033  0.0012 -0.0035  1493724122     0.001296    0\n",
       "497 -0.0006  0.0040 -0.0037  1493724443     0.002063    0\n",
       "498  0.2475  0.0111 -0.1883  1493724763     0.001177    0\n",
       "499  0.0046  0.0408 -0.0095  1493725082    -0.000829    0\n",
       "\n",
       "[500 rows x 6 columns]"
      ]
     },
     "execution_count": 9,
     "metadata": {
      "tags": []
     },
     "output_type": "execute_result"
    }
   ],
   "source": [
    "data"
   ]
  },
  {
   "cell_type": "markdown",
   "metadata": {
    "id": "23NCLeaEffBI"
   },
   "source": [
    "Our final dataframe named data is ready to be used for creating the various machine learning models."
   ]
  },
  {
   "cell_type": "markdown",
   "metadata": {
    "id": "RHudE_Ipf1Mk"
   },
   "source": [
    "Selecting the columns for our features and target columns. TAC_Reading column is dropped as the tac column is derived from it to be the target column based on the above condition."
   ]
  },
  {
   "cell_type": "code",
   "execution_count": null,
   "metadata": {
    "id": "PWs9faJNf3Rg"
   },
   "outputs": [],
   "source": [
    "X = data.iloc[:,0:5]\n",
    "X = data.drop(['TAC_Reading','tac'],axis=1) \n",
    "y = data.iloc[:,5]"
   ]
  },
  {
   "cell_type": "markdown",
   "metadata": {
    "id": "j6MGJFMJf6m2"
   },
   "source": [
    "We are using train_test_split from model selection to split our data into training and test sets with 25% test size."
   ]
  },
  {
   "cell_type": "code",
   "execution_count": null,
   "metadata": {
    "id": "BGzNnKkCgI7D"
   },
   "outputs": [],
   "source": [
    "from sklearn.model_selection import train_test_split\n",
    "X_train, X_test, y_train, y_test = train_test_split(X, y, test_size = 0.25, random_state = 1011)"
   ]
  },
  {
   "cell_type": "markdown",
   "metadata": {
    "id": "osLcuZEXBxJE"
   },
   "source": [
    "Scaling the data"
   ]
  },
  {
   "cell_type": "code",
   "execution_count": null,
   "metadata": {
    "id": "W-ADBgW5BwON"
   },
   "outputs": [],
   "source": [
    "from sklearn.preprocessing import RobustScaler\n",
    "robust = RobustScaler()\n",
    "X_train_scl = robust.fit_transform(X_train)\n",
    "X_test_scl = robust.transform(X_test)"
   ]
  },
  {
   "cell_type": "markdown",
   "metadata": {
    "id": "LqF5Bmz8CIAB"
   },
   "source": [
    "Preparing for grid search"
   ]
  },
  {
   "cell_type": "code",
   "execution_count": null,
   "metadata": {
    "id": "AV6gjHfvCHMl"
   },
   "outputs": [],
   "source": [
    "from sklearn.model_selection import GridSearchCV\n",
    "\n",
    "param_grid_knn = {'n_neighbors' : list(range(20,25)), # sqrt of 800 = 28 \n",
    "                  'p' : [1,2]} \n",
    "\n",
    "\n",
    "param_grid_logreg = {'C' : [0.001,1,1000]}\n",
    "\n",
    "\n",
    "param_grid_svm = {'C' : [0.001,1,1000],\n",
    "                  'kernel' : ['linear', 'poly', 'rbf']}\n",
    "\n",
    "\n",
    "param_grid_dtc = {'min_samples_split' : [2,3,4],\n",
    "                  'max_depth' : [3,4,5],\n",
    "                  'max_leaf_nodes':[5,10,20,25]}\n",
    "\n",
    "\n",
    "param_grid_rfc = {'n_estimators' : [50,75,100],\n",
    "                  'min_samples_split' : [2,3,4],\n",
    "                  'max_depth' : [3,4,5],\n",
    "                  'max_leaf_nodes':[5,10,20,25]}\n",
    "\n",
    "\n",
    "param_grid_xgb = {'eta' : [0.2,0.3,0.4], # learning rate default value = 0.3\n",
    "                  'gamma' : [0,1,100], # min_split_loss\n",
    "                  'max_depth' : [4,5,6] }"
   ]
  },
  {
   "cell_type": "markdown",
   "metadata": {
    "id": "E0x43PK4gOBF"
   },
   "source": [
    "Implementing various models"
   ]
  },
  {
   "cell_type": "markdown",
   "metadata": {
    "id": "cQGaUQ-vCT9p"
   },
   "source": [
    "KNN Classifier"
   ]
  },
  {
   "cell_type": "code",
   "execution_count": null,
   "metadata": {
    "colab": {
     "base_uri": "https://localhost:8080/"
    },
    "id": "qCNMa5swCUH2",
    "outputId": "c5fca92c-c7ee-46e2-8e89-79be9674ee3c"
   },
   "outputs": [
    {
     "name": "stdout",
     "output_type": "stream",
     "text": [
      "              precision    recall  f1-score   support\n",
      "\n",
      "           0       0.76      0.93      0.84        90\n",
      "           1       0.60      0.26      0.36        35\n",
      "\n",
      "    accuracy                           0.74       125\n",
      "   macro avg       0.68      0.60      0.60       125\n",
      "weighted avg       0.72      0.74      0.71       125\n",
      "\n",
      "Training set accuracy: 0.8400\n",
      "Test set accuracy: 0.744\n"
     ]
    }
   ],
   "source": [
    "from sklearn.neighbors import KNeighborsClassifier  \n",
    "from sklearn.metrics import classification_report\n",
    "from sklearn.metrics import confusion_matrix\n",
    "\n",
    "knn = KNeighborsClassifier(n_jobs = -1) \n",
    "knn.fit(X_train_scl,y_train)\n",
    "\n",
    "knn_train = knn.score(X_train_scl, y_train)\n",
    "knn_test = knn.score(X_test_scl, y_test)\n",
    "\n",
    "y_pred_knn = knn.predict(X_test_scl)\n",
    "print(classification_report(y_test, y_pred_knn))\n",
    "\n",
    "print(\"Training set accuracy: {:.4f}\".format(knn_train))  \n",
    "print(\"Test set accuracy: {:.4}\".format(knn_test))  "
   ]
  },
  {
   "cell_type": "code",
   "execution_count": null,
   "metadata": {
    "colab": {
     "base_uri": "https://localhost:8080/"
    },
    "id": "uGRS-zuCC045",
    "outputId": "3d10df61-9976-4c4e-af16-8cb088191fed"
   },
   "outputs": [
    {
     "name": "stdout",
     "output_type": "stream",
     "text": [
      "Train score is 0.808\n",
      "Test score is 0.744\n",
      "Best parameters:{'n_neighbors': 23, 'p': 1}\n",
      "Best grid search score:0.7948790896159317\n",
      "Best estimator:KNeighborsClassifier(algorithm='auto', leaf_size=30, metric='minkowski',\n",
      "                     metric_params=None, n_jobs=-1, n_neighbors=23, p=1,\n",
      "                     weights='uniform')\n",
      "[[88  2]\n",
      " [30  5]]\n",
      "              precision    recall  f1-score   support\n",
      "\n",
      "           0       0.75      0.98      0.85        90\n",
      "           1       0.71      0.14      0.24        35\n",
      "\n",
      "    accuracy                           0.74       125\n",
      "   macro avg       0.73      0.56      0.54       125\n",
      "weighted avg       0.74      0.74      0.68       125\n",
      "\n"
     ]
    }
   ],
   "source": [
    "grid_search_knn = GridSearchCV(knn,param_grid_knn,cv=10,return_train_score=True,n_jobs = -1)\n",
    "grid_search_knn.fit(X_train_scl,y_train)\n",
    "\n",
    "print(\"Train score is \"+str(grid_search_knn.score(X_train_scl,y_train)))\n",
    "print(\"Test score is \"+str(grid_search_knn.score(X_test_scl,y_test)))\n",
    "print(\"Best parameters:\"+str(grid_search_knn.best_params_))\n",
    "print(\"Best grid search score:\"+str(grid_search_knn.best_score_))\n",
    "print(\"Best estimator:\"+str(grid_search_knn.best_estimator_))\n",
    "\n",
    "y_pred_knn = grid_search_knn.predict(X_test_scl)\n",
    "print(confusion_matrix(y_test, y_pred_knn))\n",
    "print(classification_report(y_test, y_pred_knn))"
   ]
  },
  {
   "cell_type": "code",
   "execution_count": null,
   "metadata": {
    "colab": {
     "base_uri": "https://localhost:8080/",
     "height": 282
    },
    "id": "z6Hp7lbSDJ6C",
    "outputId": "550f94e8-e5e6-4131-d522-7ae131f2315f"
   },
   "outputs": [
    {
     "name": "stdout",
     "output_type": "stream",
     "text": [
      "{'Training accuracy': 0.8002665355644127, 'Test accuracy': 0.7884495021337126}\n"
     ]
    },
    {
     "data": {
      "image/png": "[encoded data removed]",
      "text/plain": [
       "<Figure size 432x288 with 1 Axes>"
      ]
     },
     "metadata": {
      "needs_background": "light",
      "tags": []
     },
     "output_type": "display_data"
    }
   ],
   "source": [
    "acc_knn = {'Training accuracy' : np.mean(grid_search_knn.cv_results_['mean_train_score']), 'Test accuracy' : np.mean(grid_search_knn.cv_results_['mean_test_score']) }\n",
    "print (acc_knn)\n",
    "plt.bar(*zip(*acc_knn.items()),color = '#42EADDFF')\n",
    "plt.show()"
   ]
  },
  {
   "cell_type": "code",
   "execution_count": null,
   "metadata": {
    "colab": {
     "base_uri": "https://localhost:8080/",
     "height": 297
    },
    "id": "OQzlPdBIzHwe",
    "outputId": "823c3a9f-ae6d-41f3-d43d-e38fa41c4bca"
   },
   "outputs": [
    {
     "data": {
      "text/plain": [
       "<sklearn.metrics._plot.roc_curve.RocCurveDisplay at 0x7f7a640fc710>"
      ]
     },
     "execution_count": 17,
     "metadata": {
      "tags": []
     },
     "output_type": "execute_result"
    },
    {
     "data": {
      "image/png": "[encoded data removed]",
      "text/plain": [
       "<Figure size 432x288 with 1 Axes>"
      ]
     },
     "metadata": {
      "needs_background": "light",
      "tags": []
     },
     "output_type": "display_data"
    }
   ],
   "source": [
    "from sklearn.metrics import plot_roc_curve\n",
    "plot_roc_curve(grid_search_knn,X_test,y_test)"
   ]
  },
  {
   "cell_type": "markdown",
   "metadata": {
    "id": "6CJrv2NkDPim"
   },
   "source": [
    "Logisitc Regression"
   ]
  },
  {
   "cell_type": "code",
   "execution_count": null,
   "metadata": {
    "colab": {
     "base_uri": "https://localhost:8080/"
    },
    "id": "bGxvOmhbDXjm",
    "outputId": "589ec4ad-0808-4498-cdd5-f4719a1afef4"
   },
   "outputs": [
    {
     "name": "stdout",
     "output_type": "stream",
     "text": [
      "              precision    recall  f1-score   support\n",
      "\n",
      "           0       0.72      1.00      0.84        90\n",
      "           1       0.00      0.00      0.00        35\n",
      "\n",
      "    accuracy                           0.72       125\n",
      "   macro avg       0.36      0.50      0.42       125\n",
      "weighted avg       0.52      0.72      0.60       125\n",
      "\n",
      "Training set accuracy: 0.78\n",
      "Test set accuracy: 0.72\n"
     ]
    },
    {
     "name": "stderr",
     "output_type": "stream",
     "text": [
      "/usr/local/lib/python3.6/dist-packages/sklearn/metrics/_classification.py:1272: UndefinedMetricWarning: Precision and F-score are ill-defined and being set to 0.0 in labels with no predicted samples. Use `zero_division` parameter to control this behavior.\n",
      "  _warn_prf(average, modifier, msg_start, len(result))\n"
     ]
    }
   ],
   "source": [
    "from sklearn.linear_model import LogisticRegression\n",
    "\n",
    "reg = LogisticRegression(random_state = 1011)\n",
    "reg.fit(X_train_scl,y_train)\n",
    "\n",
    "logreg_train = reg.score(X_train_scl,y_train)\n",
    "logreg_test = reg.score(X_test_scl,y_test)\n",
    "\n",
    "y_pred_logreg = reg.predict(X_test_scl)\n",
    "print(classification_report(y_test, y_pred_logreg))\n",
    "\n",
    "print(\"Training set accuracy: {:.2f}\".format(logreg_train))\n",
    "print(\"Test set accuracy: {:.2f}\".format(logreg_test))"
   ]
  },
  {
   "cell_type": "code",
   "execution_count": null,
   "metadata": {
    "colab": {
     "base_uri": "https://localhost:8080/"
    },
    "id": "FHTtZJMADX1R",
    "outputId": "7c9b7fe4-2e8d-4f25-b4ba-a7da89592564"
   },
   "outputs": [
    {
     "name": "stdout",
     "output_type": "stream",
     "text": [
      "Train score is 0.7813333333333333\n",
      "Test score is 0.72\n",
      "Best parameters:{'C': 0.001}\n",
      "Best grid search score:0.7787339971550498\n",
      "Best estimator:LogisticRegression(C=0.001, class_weight=None, dual=False, fit_intercept=True,\n",
      "                   intercept_scaling=1, l1_ratio=None, max_iter=100,\n",
      "                   multi_class='auto', n_jobs=None, penalty='l2',\n",
      "                   random_state=1011, solver='lbfgs', tol=0.0001, verbose=0,\n",
      "                   warm_start=False)\n",
      "[[90  0]\n",
      " [35  0]]\n",
      "              precision    recall  f1-score   support\n",
      "\n",
      "           0       0.72      1.00      0.84        90\n",
      "           1       0.00      0.00      0.00        35\n",
      "\n",
      "    accuracy                           0.72       125\n",
      "   macro avg       0.36      0.50      0.42       125\n",
      "weighted avg       0.52      0.72      0.60       125\n",
      "\n"
     ]
    },
    {
     "name": "stderr",
     "output_type": "stream",
     "text": [
      "/usr/local/lib/python3.6/dist-packages/sklearn/metrics/_classification.py:1272: UndefinedMetricWarning: Precision and F-score are ill-defined and being set to 0.0 in labels with no predicted samples. Use `zero_division` parameter to control this behavior.\n",
      "  _warn_prf(average, modifier, msg_start, len(result))\n"
     ]
    }
   ],
   "source": [
    "grid_search_logreg = GridSearchCV(reg,param_grid_logreg,cv=10,return_train_score=True,n_jobs = -1)\n",
    "grid_search_logreg.fit(X_train_scl,y_train)\n",
    "\n",
    "print(\"Train score is \"+str(grid_search_logreg.score(X_train_scl,y_train)))\n",
    "print(\"Test score is \"+str(grid_search_logreg.score(X_test_scl,y_test)))\n",
    "print(\"Best parameters:\"+str(grid_search_logreg.best_params_))\n",
    "print(\"Best grid search score:\"+str(grid_search_logreg.best_score_))\n",
    "print(\"Best estimator:\"+str(grid_search_logreg.best_estimator_))\n",
    "\n",
    "y_pred_logreg = grid_search_logreg.predict(X_test_scl)\n",
    "print(confusion_matrix(y_test, y_pred_logreg))\n",
    "print(classification_report(y_test, y_pred_logreg))"
   ]
  },
  {
   "cell_type": "code",
   "execution_count": null,
   "metadata": {
    "colab": {
     "base_uri": "https://localhost:8080/",
     "height": 282
    },
    "id": "iwVHKEYjDX5W",
    "outputId": "eb7ff681-4628-47ac-93b4-c7805cdca160"
   },
   "outputs": [
    {
     "name": "stdout",
     "output_type": "stream",
     "text": [
      "{'Training accuracy': 0.7813337313223183, 'Test accuracy': 0.7787339971550497}\n"
     ]
    },
    {
     "data": {
      "image/png": "[encoded data removed]",
      "text/plain": [
       "<Figure size 432x288 with 1 Axes>"
      ]
     },
     "metadata": {
      "needs_background": "light",
      "tags": []
     },
     "output_type": "display_data"
    }
   ],
   "source": [
    "acc_logreg = {'Training accuracy' : np.mean(grid_search_logreg.cv_results_['mean_train_score']), 'Test accuracy' : np.mean(grid_search_logreg.cv_results_['mean_test_score']) }\n",
    "print (acc_logreg)\n",
    "plt.bar(*zip(*acc_logreg.items()),color = '#42EADDFF')\n",
    "plt.show()"
   ]
  },
  {
   "cell_type": "code",
   "execution_count": null,
   "metadata": {
    "colab": {
     "base_uri": "https://localhost:8080/",
     "height": 297
    },
    "id": "8md8aWar0qvR",
    "outputId": "4f8a2a68-5201-4c54-f6a0-26f4253d8268"
   },
   "outputs": [
    {
     "data": {
      "text/plain": [
       "<sklearn.metrics._plot.roc_curve.RocCurveDisplay at 0x7f7a640e63c8>"
      ]
     },
     "execution_count": 21,
     "metadata": {
      "tags": []
     },
     "output_type": "execute_result"
    },
    {
     "data": {
      "image/png": "[encoded data removed]",
      "text/plain": [
       "<Figure size 432x288 with 1 Axes>"
      ]
     },
     "metadata": {
      "needs_background": "light",
      "tags": []
     },
     "output_type": "display_data"
    }
   ],
   "source": [
    "plot_roc_curve(grid_search_logreg,X_test,y_test)"
   ]
  },
  {
   "cell_type": "markdown",
   "metadata": {
    "id": "YcDOqx9MDmHo"
   },
   "source": [
    "Decision Tree Classifier"
   ]
  },
  {
   "cell_type": "code",
   "execution_count": null,
   "metadata": {
    "colab": {
     "base_uri": "https://localhost:8080/"
    },
    "id": "cajutHPADmeI",
    "outputId": "742f2950-e50c-4c11-b32c-d2275127c8cd"
   },
   "outputs": [
    {
     "name": "stdout",
     "output_type": "stream",
     "text": [
      "DecisionTreeClassifier(ccp_alpha=0.0, class_weight=None, criterion='gini',\n",
      "                       max_depth=None, max_features=None, max_leaf_nodes=None,\n",
      "                       min_impurity_decrease=0.0, min_impurity_split=None,\n",
      "                       min_samples_leaf=1, min_samples_split=2,\n",
      "                       min_weight_fraction_leaf=0.0, presort='deprecated',\n",
      "                       random_state=1011, splitter='best')\n",
      "              precision    recall  f1-score   support\n",
      "\n",
      "           0       0.78      0.83      0.81        90\n",
      "           1       0.48      0.40      0.44        35\n",
      "\n",
      "    accuracy                           0.71       125\n",
      "   macro avg       0.63      0.62      0.62       125\n",
      "weighted avg       0.70      0.71      0.70       125\n",
      "\n",
      "Training set accuracy: 1.00\n",
      "Test set accuracy: 0.71\n"
     ]
    }
   ],
   "source": [
    "from sklearn.tree import DecisionTreeClassifier\n",
    "\n",
    "dtc = DecisionTreeClassifier(random_state = 1011)\n",
    "print (dtc.fit(X_train,y_train))\n",
    "\n",
    "dtc_train = dtc.score(X_train,y_train) # no scaling required \n",
    "dtc_test = dtc.score(X_test,y_test)\n",
    "\n",
    "y_pred_dtc = dtc.predict(X_test)\n",
    "print(classification_report(y_test, y_pred_dtc))\n",
    "\n",
    "print(\"Training set accuracy: {:.2f}\".format(dtc_train))\n",
    "print(\"Test set accuracy: {:.2f}\".format(dtc_test))"
   ]
  },
  {
   "cell_type": "code",
   "execution_count": null,
   "metadata": {
    "colab": {
     "base_uri": "https://localhost:8080/"
    },
    "id": "CZVJXUiqDmqD",
    "outputId": "73890820-0bb3-4364-e558-697a48db93e0"
   },
   "outputs": [
    {
     "name": "stdout",
     "output_type": "stream",
     "text": [
      "Train score is 0.8426666666666667\n",
      "Test score is 0.808\n",
      "Best parameters:{'max_depth': 5, 'max_leaf_nodes': 10, 'min_samples_split': 2}\n",
      "Best grid search score:0.797724039829303\n",
      "Best estimator:DecisionTreeClassifier(ccp_alpha=0.0, class_weight=None, criterion='gini',\n",
      "                       max_depth=5, max_features=None, max_leaf_nodes=10,\n",
      "                       min_impurity_decrease=0.0, min_impurity_split=None,\n",
      "                       min_samples_leaf=1, min_samples_split=2,\n",
      "                       min_weight_fraction_leaf=0.0, presort='deprecated',\n",
      "                       random_state=1011, splitter='best')\n",
      "[[86  4]\n",
      " [20 15]]\n",
      "              precision    recall  f1-score   support\n",
      "\n",
      "           0       0.81      0.96      0.88        90\n",
      "           1       0.79      0.43      0.56        35\n",
      "\n",
      "    accuracy                           0.81       125\n",
      "   macro avg       0.80      0.69      0.72       125\n",
      "weighted avg       0.81      0.81      0.79       125\n",
      "\n"
     ]
    }
   ],
   "source": [
    "grid_search_dtc = GridSearchCV(dtc, param_grid_dtc, cv=10, return_train_score=True, n_jobs = -1)\n",
    "grid_search_dtc.fit(X_train,y_train)\n",
    "\n",
    "print(\"Train score is \"+str(grid_search_dtc.score(X_train,y_train)))\n",
    "print(\"Test score is \"+str(grid_search_dtc.score(X_test,y_test)))\n",
    "print(\"Best parameters:\"+str(grid_search_dtc.best_params_))\n",
    "print(\"Best grid search score:\"+str(grid_search_dtc.best_score_))\n",
    "print(\"Best estimator:\"+str(grid_search_dtc.best_estimator_))\n",
    "\n",
    "y_pred_dtc = grid_search_dtc.predict(X_test)\n",
    "print(confusion_matrix(y_test, y_pred_dtc))\n",
    "print(classification_report(y_test, y_pred_dtc))"
   ]
  },
  {
   "cell_type": "code",
   "execution_count": null,
   "metadata": {
    "colab": {
     "base_uri": "https://localhost:8080/",
     "height": 282
    },
    "id": "Lc_D4uuhDm0s",
    "outputId": "4695f0f1-fd87-4788-96c4-461ef2ce86ef"
   },
   "outputs": [
    {
     "name": "stdout",
     "output_type": "stream",
     "text": [
      "{'Training accuracy': 0.8187951761393897, 'Test accuracy': 0.7780464675201517}\n"
     ]
    },
    {
     "data": {
      "image/png": "[encoded data removed]",
      "text/plain": [
       "<Figure size 432x288 with 1 Axes>"
      ]
     },
     "metadata": {
      "needs_background": "light",
      "tags": []
     },
     "output_type": "display_data"
    }
   ],
   "source": [
    "acc_dtc = {'Training accuracy' : np.mean(grid_search_dtc.cv_results_['mean_train_score']), 'Test accuracy' : np.mean(grid_search_dtc.cv_results_['mean_test_score']) }\n",
    "print (acc_dtc)\n",
    "plt.bar(*zip(*acc_dtc.items()),color = '#42EADDFF')\n",
    "plt.show()"
   ]
  },
  {
   "cell_type": "code",
   "execution_count": null,
   "metadata": {
    "colab": {
     "base_uri": "https://localhost:8080/",
     "height": 297
    },
    "id": "yZDZyIm50u2H",
    "outputId": "e87aa3b0-eb87-4366-b029-2be8fc9314dd"
   },
   "outputs": [
    {
     "data": {
      "text/plain": [
       "<sklearn.metrics._plot.roc_curve.RocCurveDisplay at 0x7f7a66002358>"
      ]
     },
     "execution_count": 28,
     "metadata": {
      "tags": []
     },
     "output_type": "execute_result"
    },
    {
     "data": {
      "image/png": "[encoded data removed]",
      "text/plain": [
       "<Figure size 432x288 with 1 Axes>"
      ]
     },
     "metadata": {
      "needs_background": "light",
      "tags": []
     },
     "output_type": "display_data"
    }
   ],
   "source": [
    "plot_roc_curve(grid_search_dtc,X_test,y_test)"
   ]
  },
  {
   "cell_type": "markdown",
   "metadata": {
    "id": "9I-yj8YsEE68"
   },
   "source": [
    "Random Forest Classifier"
   ]
  },
  {
   "cell_type": "code",
   "execution_count": null,
   "metadata": {
    "colab": {
     "base_uri": "https://localhost:8080/"
    },
    "id": "QUzwcNcvEFL5",
    "outputId": "80b9f924-67ee-4091-90b0-74f94362d6cc"
   },
   "outputs": [
    {
     "name": "stdout",
     "output_type": "stream",
     "text": [
      "              precision    recall  f1-score   support\n",
      "\n",
      "           0       0.79      0.89      0.84        90\n",
      "           1       0.58      0.40      0.47        35\n",
      "\n",
      "    accuracy                           0.75       125\n",
      "   macro avg       0.69      0.64      0.66       125\n",
      "weighted avg       0.73      0.75      0.74       125\n",
      "\n",
      "Training Score:  1.0\n",
      "Test Score:  0.752\n"
     ]
    }
   ],
   "source": [
    "from sklearn.ensemble import RandomForestClassifier\n",
    "\n",
    "rfc = RandomForestClassifier(random_state = 1011, n_jobs = -1)\n",
    "rfc.fit(X_train,y_train)\n",
    "\n",
    "y_pred_rfc = rfc.predict(X_test)\n",
    "print(classification_report(y_test, y_pred_rfc))\n",
    "\n",
    "print (\"Training Score: \",rfc.score(X_train,y_train))\n",
    "print (\"Test Score: \",rfc.score(X_test,y_test))"
   ]
  },
  {
   "cell_type": "code",
   "execution_count": null,
   "metadata": {
    "colab": {
     "base_uri": "https://localhost:8080/"
    },
    "id": "i8b_shjuEFR7",
    "outputId": "f1b7b962-5e48-4b02-b327-2c4e487a6c0b"
   },
   "outputs": [
    {
     "name": "stdout",
     "output_type": "stream",
     "text": [
      "Train score is 0.8826666666666667\n",
      "Test score is 0.736\n",
      "Best parameters:{'max_depth': 5, 'max_leaf_nodes': 20, 'min_samples_split': 2, 'n_estimators': 50}\n",
      "Best grid search score:0.8083926031294453\n",
      "Best estimator:RandomForestClassifier(bootstrap=True, ccp_alpha=0.0, class_weight=None,\n",
      "                       criterion='gini', max_depth=5, max_features='auto',\n",
      "                       max_leaf_nodes=20, max_samples=None,\n",
      "                       min_impurity_decrease=0.0, min_impurity_split=None,\n",
      "                       min_samples_leaf=1, min_samples_split=2,\n",
      "                       min_weight_fraction_leaf=0.0, n_estimators=50, n_jobs=-1,\n",
      "                       oob_score=False, random_state=1011, verbose=0,\n",
      "                       warm_start=False)\n",
      "[[85  5]\n",
      " [28  7]]\n",
      "              precision    recall  f1-score   support\n",
      "\n",
      "           0       0.75      0.94      0.84        90\n",
      "           1       0.58      0.20      0.30        35\n",
      "\n",
      "    accuracy                           0.74       125\n",
      "   macro avg       0.67      0.57      0.57       125\n",
      "weighted avg       0.70      0.74      0.69       125\n",
      "\n"
     ]
    }
   ],
   "source": [
    "grid_search_rfc = GridSearchCV(rfc, param_grid_rfc, cv=10, return_train_score=True, n_jobs = -1)\n",
    "grid_search_rfc.fit(X_train,y_train)\n",
    "\n",
    "print(\"Train score is \"+str(grid_search_rfc.score(X_train,y_train)))\n",
    "print(\"Test score is \"+str(grid_search_rfc.score(X_test,y_test)))\n",
    "print(\"Best parameters:\"+str(grid_search_rfc.best_params_))\n",
    "print(\"Best grid search score:\"+str(grid_search_rfc.best_score_))\n",
    "print(\"Best estimator:\"+str(grid_search_rfc.best_estimator_))\n",
    "\n",
    "y_pred_rfc = grid_search_rfc.predict(X_test)\n",
    "print(confusion_matrix(y_test, y_pred_rfc))\n",
    "print(classification_report(y_test, y_pred_rfc))"
   ]
  },
  {
   "cell_type": "code",
   "execution_count": null,
   "metadata": {
    "colab": {
     "base_uri": "https://localhost:8080/",
     "height": 282
    },
    "id": "uC6UhhkcEFX5",
    "outputId": "f38d3e02-12a4-4a8a-d712-009c6c6a6662"
   },
   "outputs": [
    {
     "name": "stdout",
     "output_type": "stream",
     "text": [
      "{'Training accuracy': 0.8255516244388649, 'Test accuracy': 0.7861216479637534}\n"
     ]
    },
    {
     "data": {
      "image/png": "[encoded data removed]",
      "text/plain": [
       "<Figure size 432x288 with 1 Axes>"
      ]
     },
     "metadata": {
      "needs_background": "light",
      "tags": []
     },
     "output_type": "display_data"
    }
   ],
   "source": [
    "acc_rfc = {'Training accuracy' : np.mean(grid_search_rfc.cv_results_['mean_train_score']), 'Test accuracy' : np.mean(grid_search_rfc.cv_results_['mean_test_score']) }\n",
    "print (acc_rfc)\n",
    "plt.bar(*zip(*acc_rfc.items()),color = '#42EADDFF')\n",
    "plt.show()"
   ]
  },
  {
   "cell_type": "code",
   "execution_count": null,
   "metadata": {
    "colab": {
     "base_uri": "https://localhost:8080/",
     "height": 297
    },
    "id": "C9EnCqg_0xck",
    "outputId": "409056fa-bf16-4b7b-aee3-a64c26f4e2a5"
   },
   "outputs": [
    {
     "data": {
      "text/plain": [
       "<sklearn.metrics._plot.roc_curve.RocCurveDisplay at 0x7f7a65a57198>"
      ]
     },
     "execution_count": 32,
     "metadata": {
      "tags": []
     },
     "output_type": "execute_result"
    },
    {
     "data": {
      "image/png": "[encoded data removed]",
      "text/plain": [
       "<Figure size 432x288 with 1 Axes>"
      ]
     },
     "metadata": {
      "needs_background": "light",
      "tags": []
     },
     "output_type": "display_data"
    }
   ],
   "source": [
    "plot_roc_curve(grid_search_rfc,X_test,y_test)"
   ]
  },
  {
   "cell_type": "markdown",
   "metadata": {
    "id": "Io_UxQbZEd10"
   },
   "source": [
    "eXtreme Gradient Boost Classifier"
   ]
  },
  {
   "cell_type": "code",
   "execution_count": null,
   "metadata": {
    "colab": {
     "base_uri": "https://localhost:8080/"
    },
    "id": "iq7D33T7EeFk",
    "outputId": "b8f5a010-566c-4d5a-fff6-61cf8a58dfd0"
   },
   "outputs": [
    {
     "name": "stdout",
     "output_type": "stream",
     "text": [
      "Training Score:  0.9306666666666666\n",
      "Test Score:  0.728\n"
     ]
    }
   ],
   "source": [
    "from xgboost import XGBClassifier\n",
    "\n",
    "xgb = XGBClassifier(random_state = 1011, n_jobs = -1)\n",
    "xgb.fit(X_train,y_train)\n",
    "\n",
    "print (\"Training Score: \",xgb.score(X_train,y_train))\n",
    "print (\"Test Score: \",xgb.score(X_test,y_test))"
   ]
  },
  {
   "cell_type": "code",
   "execution_count": null,
   "metadata": {
    "colab": {
     "base_uri": "https://localhost:8080/"
    },
    "id": "kJswujFiEePv",
    "outputId": "e8508212-d69e-4e31-c609-ee06b3a33c79"
   },
   "outputs": [
    {
     "name": "stdout",
     "output_type": "stream",
     "text": [
      "Train score is 0.944\n",
      "Test score is 0.76\n",
      "Best parameters:{'eta': 0.2, 'gamma': 1, 'max_depth': 5}\n",
      "Best grid search score:0.8136557610241821\n",
      "Best estimator:XGBClassifier(base_score=0.5, booster='gbtree', colsample_bylevel=1,\n",
      "              colsample_bynode=1, colsample_bytree=1, eta=0.2, gamma=1,\n",
      "              learning_rate=0.1, max_delta_step=0, max_depth=5,\n",
      "              min_child_weight=1, missing=None, n_estimators=100, n_jobs=-1,\n",
      "              nthread=None, objective='binary:logistic', random_state=1011,\n",
      "              reg_alpha=0, reg_lambda=1, scale_pos_weight=1, seed=None,\n",
      "              silent=None, subsample=1, verbosity=1)\n",
      "[[79 11]\n",
      " [19 16]]\n",
      "              precision    recall  f1-score   support\n",
      "\n",
      "           0       0.81      0.88      0.84        90\n",
      "           1       0.59      0.46      0.52        35\n",
      "\n",
      "    accuracy                           0.76       125\n",
      "   macro avg       0.70      0.67      0.68       125\n",
      "weighted avg       0.75      0.76      0.75       125\n",
      "\n"
     ]
    }
   ],
   "source": [
    "grid_search_xgb = GridSearchCV(xgb, param_grid_xgb, cv=10, return_train_score=True, n_jobs = -1)\n",
    "grid_search_xgb.fit(X_train,y_train)\n",
    "\n",
    "print(\"Train score is \"+str(grid_search_xgb.score(X_train,y_train)))\n",
    "print(\"Test score is \"+str(grid_search_xgb.score(X_test,y_test)))\n",
    "print(\"Best parameters:\"+str(grid_search_xgb.best_params_))\n",
    "print(\"Best grid search score:\"+str(grid_search_xgb.best_score_))\n",
    "print(\"Best estimator:\"+str(grid_search_xgb.best_estimator_))\n",
    "\n",
    "y_pred_xgb = grid_search_xgb.predict(X_test)\n",
    "print(confusion_matrix(y_test, y_pred_xgb))\n",
    "print(classification_report(y_test, y_pred_xgb))"
   ]
  },
  {
   "cell_type": "code",
   "execution_count": null,
   "metadata": {
    "colab": {
     "base_uri": "https://localhost:8080/",
     "height": 282
    },
    "id": "yc8ZzAFpEeW0",
    "outputId": "7c2a2362-2f9a-47d3-8465-ecedd3a1bcca"
   },
   "outputs": [
    {
     "name": "stdout",
     "output_type": "stream",
     "text": [
      "{'Training accuracy': 0.9063052965700764, 'Test accuracy': 0.7962620515252093}\n"
     ]
    },
    {
     "data": {
      "image/png": "[encoded data removed]",
      "text/plain": [
       "<Figure size 432x288 with 1 Axes>"
      ]
     },
     "metadata": {
      "needs_background": "light",
      "tags": []
     },
     "output_type": "display_data"
    }
   ],
   "source": [
    "acc_xgb = {'Training accuracy' : np.mean(grid_search_xgb.cv_results_['mean_train_score']), 'Test accuracy' : np.mean(grid_search_xgb.cv_results_['mean_test_score']) }\n",
    "print (acc_xgb)\n",
    "plt.bar(*zip(*acc_xgb.items()),color = '#42EADDFF')\n",
    "plt.show()"
   ]
  },
  {
   "cell_type": "code",
   "execution_count": null,
   "metadata": {
    "colab": {
     "base_uri": "https://localhost:8080/",
     "height": 297
    },
    "id": "SrA46tQN00zd",
    "outputId": "0bbfcd3d-7d0e-4c39-e3ea-e49564228eea"
   },
   "outputs": [
    {
     "data": {
      "text/plain": [
       "<sklearn.metrics._plot.roc_curve.RocCurveDisplay at 0x7f7a640e6128>"
      ]
     },
     "execution_count": 36,
     "metadata": {
      "tags": []
     },
     "output_type": "execute_result"
    },
    {
     "data": {
      "image/png": "[encoded data removed]",
      "text/plain": [
       "<Figure size 432x288 with 1 Axes>"
      ]
     },
     "metadata": {
      "needs_background": "light",
      "tags": []
     },
     "output_type": "display_data"
    }
   ],
   "source": [
    "plot_roc_curve(grid_search_xgb,X_test,y_test)"
   ]
  },
  {
   "cell_type": "markdown",
   "metadata": {
    "id": "2T5N6O2kEtQt"
   },
   "source": [
    "## Combining and plotting the average accuracies returned by GridSearch for all the models"
   ]
  },
  {
   "cell_type": "code",
   "execution_count": null,
   "metadata": {
    "id": "imz4BFFXEv9t"
   },
   "outputs": [],
   "source": [
    "#creating a Dataframe from all the dictionaries above\n",
    "acc = pd.DataFrame([acc_knn,acc_logreg,acc_dtc,acc_rfc,acc_xgb] , index = ['kNN','Logistic Regression','Decision Tree','Random Forest','XGBoost'])\n",
    "\n",
    "#acc = pd.DataFrame([acc_knn,acc_logreg,acc_svm,acc_dtc,acc_rfc,acc_xgb] , index = ['kNN','Logistic Regression','SVM','Decision Tree','Random Forest','XGBoost'])"
   ]
  },
  {
   "cell_type": "code",
   "execution_count": null,
   "metadata": {
    "colab": {
     "base_uri": "https://localhost:8080/",
     "height": 195
    },
    "id": "20tCaWLVEyyz",
    "outputId": "845c6fa9-49d6-4528-cbea-699e142fe80c"
   },
   "outputs": [
    {
     "data": {
      "text/html": [
       "<div>\n",
       "<style scoped>\n",
       "    .dataframe tbody tr th:only-of-type {\n",
       "        vertical-align: middle;\n",
       "    }\n",
       "\n",
       "    .dataframe tbody tr th {\n",
       "        vertical-align: top;\n",
       "    }\n",
       "\n",
       "    .dataframe thead th {\n",
       "        text-align: right;\n",
       "    }\n",
       "</style>\n",
       "<table border=\"1\" class=\"dataframe\">\n",
       "  <thead>\n",
       "    <tr style=\"text-align: right;\">\n",
       "      <th></th>\n",
       "      <th>Training accuracy</th>\n",
       "      <th>Test accuracy</th>\n",
       "    </tr>\n",
       "  </thead>\n",
       "  <tbody>\n",
       "    <tr>\n",
       "      <th>kNN</th>\n",
       "      <td>0.800267</td>\n",
       "      <td>0.788450</td>\n",
       "    </tr>\n",
       "    <tr>\n",
       "      <th>Logistic Regression</th>\n",
       "      <td>0.781334</td>\n",
       "      <td>0.778734</td>\n",
       "    </tr>\n",
       "    <tr>\n",
       "      <th>Decision Tree</th>\n",
       "      <td>0.818795</td>\n",
       "      <td>0.778046</td>\n",
       "    </tr>\n",
       "    <tr>\n",
       "      <th>Random Forest</th>\n",
       "      <td>0.825552</td>\n",
       "      <td>0.786122</td>\n",
       "    </tr>\n",
       "    <tr>\n",
       "      <th>XGBoost</th>\n",
       "      <td>0.906305</td>\n",
       "      <td>0.796262</td>\n",
       "    </tr>\n",
       "  </tbody>\n",
       "</table>\n",
       "</div>"
      ],
      "text/plain": [
       "                     Training accuracy  Test accuracy\n",
       "kNN                           0.800267       0.788450\n",
       "Logistic Regression           0.781334       0.778734\n",
       "Decision Tree                 0.818795       0.778046\n",
       "Random Forest                 0.825552       0.786122\n",
       "XGBoost                       0.906305       0.796262"
      ]
     },
     "execution_count": 38,
     "metadata": {
      "tags": []
     },
     "output_type": "execute_result"
    }
   ],
   "source": [
    "acc"
   ]
  },
  {
   "cell_type": "code",
   "execution_count": null,
   "metadata": {
    "colab": {
     "base_uri": "https://localhost:8080/",
     "height": 610
    },
    "id": "bhZOkAIME1Bg",
    "outputId": "65161161-9934-4fd6-d333-52cb672a60bd"
   },
   "outputs": [
    {
     "data": {
      "text/plain": [
       "<matplotlib.axes._subplots.AxesSubplot at 0x7f7a62e73da0>"
      ]
     },
     "execution_count": 39,
     "metadata": {
      "tags": []
     },
     "output_type": "execute_result"
    },
    {
     "data": {
      "image/png": "[encoded data removed]",
      "text/plain": [
       "<Figure size 1152x720 with 1 Axes>"
      ]
     },
     "metadata": {
      "needs_background": "light",
      "tags": []
     },
     "output_type": "display_data"
    }
   ],
   "source": [
    "acc.plot(kind = 'barh', figsize = (16,10),color = [\"#CDB599FF\", \"#42EADDFF\"])"
   ]
  }
 ],
 "metadata": {
  "colab": {
   "name": "healthcare project final.ipynb",
   "provenance": [],
   "toc_visible": true
  },
  "kernelspec": {
   "display_name": "Python 3",
   "language": "python",
   "name": "python3"
  },
  "language_info": {
   "codemirror_mode": {
    "name": "ipython",
    "version": 3
   },
   "file_extension": ".py",
   "mimetype": "text/x-python",
   "name": "python",
   "nbconvert_exporter": "python",
   "pygments_lexer": "ipython3",
   "version": "3.7.6"
  }
 },
 "nbformat": 4,
 "nbformat_minor": 1
}
